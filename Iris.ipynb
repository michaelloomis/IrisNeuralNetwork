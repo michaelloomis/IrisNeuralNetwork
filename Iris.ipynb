{
 "cells": [
  {
   "cell_type": "code",
   "execution_count": null,
   "id": "59998fef-927a-4d1d-8aec-763a60fdcc1d",
   "metadata": {
    "tags": []
   },
   "outputs": [],
   "source": [
    "import torch\n",
    "import torch.nn as nn\n",
    "import torch.nn.functional as F\n",
    "from torch.utils.data import Dataset, DataLoader\n",
    "from sklearn.model_selection import train_test_split\n",
    "\n",
    "import numpy as np\n",
    "import pandas as pd\n",
    "import matplotlib.pyplot as plt"
   ]
  },
  {
   "cell_type": "markdown",
   "id": "aced7939-f497-4e80-b651-253de0ef61cd",
   "metadata": {
    "tags": []
   },
   "source": [
    "# Reading in the data:"
   ]
  },
  {
   "cell_type": "code",
   "execution_count": null,
   "id": "bbbef78a-34db-4e8c-9a47-6a9d6406277c",
   "metadata": {
    "tags": []
   },
   "outputs": [],
   "source": [
    "dataset = pd.read_csv(\"/home/michael/Code/IrisNeuralNetwork/iris.data.csv\")\n",
    "\n",
    "dataset.columns = [\"sepal length (cm)\", \n",
    "                   \"sepal width (cm)\", \n",
    "                   \"petal length (cm)\", \n",
    "                   \"petal width (cm)\", \n",
    "                   \"species\"]\n",
    "mappings = {\n",
    "   \"Iris-setosa\": 0,\n",
    "   \"Iris-versicolor\": 1,\n",
    "   \"Iris-virginica\": 2\n",
    "}\n",
    "dataset[\"species\"] = dataset[\"species\"].apply(lambda x: mappings[x])\n",
    "\n",
    "dataset.head()"
   ]
  },
  {
   "cell_type": "markdown",
   "id": "9d9add03-273a-4bf7-b091-3e423f8a25d4",
   "metadata": {
    "tags": []
   },
   "source": [
    "# Plotting the Data:"
   ]
  },
  {
   "cell_type": "code",
   "execution_count": null,
   "id": "e71ba808-4ab1-4d6e-86ab-56d4864d63b7",
   "metadata": {
    "tags": []
   },
   "outputs": [],
   "source": [
    "fig, axes = plt.subplots(nrows=2, ncols=2, figsize=(12,8))\n",
    "fig.tight_layout()\n",
    "\n",
    "plots = [(0,1),(2,3),(0,2),(1,3)]\n",
    "colors = [\"r\", \"g\", \"b\"]\n",
    "labels = [\"Iris-setosa\",\"Iris-virginica\",\"Iris-versicolor\"]\n",
    "\n",
    "for i, ax in enumerate(axes.flat):\n",
    "    for j in range(3):\n",
    "        x = dataset.columns[plots[i][0]]\n",
    "        y = dataset.columns[plots[i][1]]\n",
    "        ax.scatter(dataset[dataset[\"species\"]==j][x], dataset[dataset[\"species\"]==j][y], color=colors[j])\n",
    "        ax.set(xlabel=x, ylabel=y)\n",
    "\n",
    "fig.legend(labels=labels, loc=3, bbox_to_anchor=(1.0,0.85))\n",
    "plt.show()"
   ]
  },
  {
   "cell_type": "markdown",
   "id": "32f3085c-273b-4e50-9d38-838bcf05f1dd",
   "metadata": {},
   "source": [
    "# Creating Training + Test Variables"
   ]
  },
  {
   "cell_type": "code",
   "execution_count": null,
   "id": "07d761cf-3d58-48b7-8a8a-275c81d16b0f",
   "metadata": {
    "tags": []
   },
   "outputs": [],
   "source": [
    "X = dataset.drop(\"species\",axis=1).values\n",
    "y = dataset[\"species\"].values"
   ]
  },
  {
   "cell_type": "code",
   "execution_count": null,
   "id": "ab815ad4-98d2-44e8-9a12-1f36050eb6a6",
   "metadata": {
    "tags": []
   },
   "outputs": [],
   "source": [
    "X_train, X_test, y_train, y_test = train_test_split(X,y,test_size=0.20)"
   ]
  },
  {
   "cell_type": "code",
   "execution_count": null,
   "id": "4d85b4fe-593e-424a-832a-189b4835d924",
   "metadata": {
    "tags": []
   },
   "outputs": [],
   "source": [
    "X_train = torch.FloatTensor(X_train)\n",
    "X_test = torch.FloatTensor(X_test)\n",
    "y_train = torch.LongTensor(y_train)\n",
    "y_test = torch.LongTensor(y_test)"
   ]
  },
  {
   "cell_type": "markdown",
   "id": "d2173d57-152f-4ad8-aff7-5a762d139336",
   "metadata": {},
   "source": [
    "# Creating a Model"
   ]
  },
  {
   "cell_type": "code",
   "execution_count": null,
   "id": "5c9ba878-e8b0-4b21-8553-3881573d7cdd",
   "metadata": {
    "tags": []
   },
   "outputs": [],
   "source": [
    "class Model(nn.Module):\n",
    "    def __init__(self, input_features=4, hidden_layer1=25, hidden_layer2=30, output_features=3):\n",
    "        super().__init__()\n",
    "        self.fc1 = nn.Linear(input_features,hidden_layer1)                  \n",
    "        self.fc2 = nn.Linear(hidden_layer1, hidden_layer2)                  \n",
    "        self.out = nn.Linear(hidden_layer2, output_features)      \n",
    "        \n",
    "    def forward(self, x):\n",
    "        x = F.relu(self.fc1(x))\n",
    "        x = F.relu(self.fc2(x))\n",
    "        x = self.out(x)\n",
    "        return x\n",
    "    \n",
    "model = Model()"
   ]
  },
  {
   "cell_type": "markdown",
   "id": "6137f7dd-9209-428a-9358-f28af163314b",
   "metadata": {},
   "source": [
    "# Setting Hyper-Parameters"
   ]
  },
  {
   "cell_type": "code",
   "execution_count": null,
   "id": "22e283d2-1d2b-4730-99c9-599ffb94b5da",
   "metadata": {
    "tags": []
   },
   "outputs": [],
   "source": [
    "criterion = nn.CrossEntropyLoss()\n",
    "optimizer = torch.optim.Adam(model.parameters(), lr=0.01)"
   ]
  },
  {
   "cell_type": "markdown",
   "id": "2e3254b6-c8b8-4ee0-aa13-7060c0e32440",
   "metadata": {},
   "source": [
    "# Training"
   ]
  },
  {
   "cell_type": "code",
   "execution_count": null,
   "id": "4c1df169-5b2d-48a0-9d6e-25631c06973c",
   "metadata": {
    "tags": []
   },
   "outputs": [],
   "source": [
    "epochs = 100\n",
    "losses = []\n",
    "\n",
    "for i in range(epochs):\n",
    "    y_pred = model.forward(X_train)\n",
    "    loss = criterion(y_pred, y_train)\n",
    "    losses.append(loss)\n",
    "    print(f'epoch: {i:2}  loss: {loss.item():10.8f}')\n",
    "    \n",
    "    optimizer.zero_grad()\n",
    "    loss.backward()\n",
    "    optimizer.step()"
   ]
  },
  {
   "cell_type": "markdown",
   "id": "7f670669-8a35-4959-a418-936d2701aae6",
   "metadata": {},
   "source": [
    "# Training Visualization"
   ]
  },
  {
   "cell_type": "code",
   "execution_count": null,
   "id": "85328dc2-1e56-43e8-bef0-4299b50f8784",
   "metadata": {
    "tags": []
   },
   "outputs": [],
   "source": [
    "losses = [ loss.detach().numpy() for loss in losses]\n",
    "plt.plot(range(epochs), losses)\n",
    "plt.ylabel('Loss')\n",
    "plt.xlabel('epoch');"
   ]
  },
  {
   "cell_type": "markdown",
   "id": "b8a39613-026c-40a3-b283-7ba1eb589ec3",
   "metadata": {},
   "source": [
    "# Validate + Testing Model"
   ]
  },
  {
   "cell_type": "code",
   "execution_count": null,
   "id": "01f1cd6e-d4ee-4645-a96a-c223033fc66b",
   "metadata": {
    "tags": []
   },
   "outputs": [],
   "source": [
    "preds = []\n",
    "with torch.no_grad():\n",
    "    for val in X_test:\n",
    "        y_hat = model.forward(val)\n",
    "        preds.append(y_hat.argmax().item())\n",
    "        \n",
    "df = pd.DataFrame({'Y': y_test, 'YHat': preds})\n",
    "df['Correct'] = [1 if corr == pred else 0 for corr, pred in zip(df['Y'], df['YHat'])]\n",
    "df"
   ]
  },
  {
   "cell_type": "markdown",
   "id": "87f32675-94c2-4eb5-b5c3-7c774ba5b337",
   "metadata": {},
   "source": [
    "# Applying model to Unknown Data"
   ]
  },
  {
   "cell_type": "code",
   "execution_count": null,
   "id": "4501a485-1277-483f-a2e6-b0c37c8bbc9d",
   "metadata": {
    "tags": []
   },
   "outputs": [],
   "source": [
    "unknown_iris = torch.tensor([4.0,3.3,1.7,0.5])\n",
    "fig, axes = plt.subplots(nrows=2, ncols=2, figsize=(10,7))\n",
    "fig.tight_layout()\n",
    "\n",
    "plots = [(0,1),(2,3),(0,2),(1,3)]\n",
    "colors = ['r', 'g', 'b']\n",
    "labels = ['Iris-setosa','Iris-virginica','Iris-versicolor','Unknown-iris']\n",
    "\n",
    "for i, ax in enumerate(axes.flat):\n",
    "    for j in range(3):\n",
    "        x = dataset.columns[plots[i][0]]\n",
    "        y = dataset.columns[plots[i][1]]\n",
    "        ax.scatter(dataset[dataset[\"species\"]==j][x], dataset[dataset[\"species\"]==j][y], color=colors[j])\n",
    "        ax.set(xlabel=x, ylabel=y)\n",
    "        \n",
    "    # Add a plot for our mystery iris:\n",
    "    ax.scatter(unknown_iris[plots[i][0]],unknown_iris[plots[i][1]], color='y')\n",
    "    \n",
    "fig.legend(labels=labels, loc=3, bbox_to_anchor=(1.0,0.85))\n",
    "plt.show()"
   ]
  },
  {
   "cell_type": "code",
   "execution_count": null,
   "id": "de790065-2937-4141-955c-2fc84bc2eac4",
   "metadata": {
    "tags": []
   },
   "outputs": [],
   "source": [
    "with torch.no_grad():\n",
    "    print(model(unknown_iris))\n",
    "    print()\n",
    "    print(labels[model(unknown_iris).argmax()])"
   ]
  },
  {
   "cell_type": "code",
   "execution_count": null,
   "id": "9becb069-f1ea-493f-b8fb-87ef9a249a53",
   "metadata": {},
   "outputs": [],
   "source": []
  }
 ],
 "metadata": {
  "kernelspec": {
   "display_name": "Python 3 (ipykernel)",
   "language": "python",
   "name": "python3"
  },
  "language_info": {
   "codemirror_mode": {
    "name": "ipython",
    "version": 3
   },
   "file_extension": ".py",
   "mimetype": "text/x-python",
   "name": "python",
   "nbconvert_exporter": "python",
   "pygments_lexer": "ipython3",
   "version": "3.10.11"
  },
  "toc-autonumbering": false,
  "toc-showcode": false,
  "toc-showmarkdowntxt": true
 },
 "nbformat": 4,
 "nbformat_minor": 5
}
